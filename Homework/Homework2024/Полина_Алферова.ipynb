{
 "cells": [
  {
   "cell_type": "markdown",
   "metadata": {
    "id": "rmgX0so9Jnhv"
   },
   "source": [
    "Алферова Полина, 5030103/10301.\n",
    "\n",
    "\n"
   ]
  },
  {
   "cell_type": "markdown",
   "metadata": {
    "id": "rRxccdS9Jnhx"
   },
   "source": [
    "### Чтение данных"
   ]
  },
  {
   "cell_type": "code",
   "execution_count": 2,
   "metadata": {},
   "outputs": [],
   "source": [
    "import pandas as pd\n",
    "import numpy as np\n",
    "\n",
    "#импорт данных\n",
    "air_reserve = pd.read_csv(\"air_reserve.csv\")\n",
    "hpg_reserve = pd.read_csv(\"hpg_reserve.csv\")\n",
    "air_store_info = pd.read_csv(\"air_store_info.csv\")\n",
    "hpg_store_info = pd.read_csv(\"hpg_store_info.csv\")\n",
    "store_id_relation = pd.read_csv(\"store_id_relation.csv\")\n",
    "air_visit_data = pd.read_csv(\"air_visit_data.csv\")\n",
    "date_info = pd.read_csv(\"date_info.csv\")\n",
    "sample_submission = pd.read_csv('sample_submission.csv')\n",
    "\n",
    "data_dict = {\n",
    "    \"air_reserve\": air_reserve,\n",
    "    \"hpg_reserve\": hpg_reserve,\n",
    "    \"air_store_info\": air_store_info,\n",
    "    \"hpg_store_info\": hpg_store_info,\n",
    "    \"store_id_relation\": store_id_relation,\n",
    "    \"air_visit_data\": air_visit_data,\n",
    "    \"date_info\": date_info,\n",
    "    \"sample_submission\": sample_submission,\n",
    "}"
   ]
  },
  {
   "cell_type": "markdown",
   "metadata": {
    "id": "s9A-Q6WzJnhz"
   },
   "source": [
    "### Создание датасета для прогнозирования"
   ]
  },
  {
   "cell_type": "code",
   "execution_count": 3,
   "metadata": {
    "colab": {
     "base_uri": "https://localhost:8080/",
     "height": 1000
    },
    "id": "go-N5EfgJnhz",
    "outputId": "0a6090e9-da00-4592-cc6d-b94fe1057848"
   },
   "outputs": [],
   "source": [
    "air_visit_data['visit_date'] = pd.to_datetime(air_visit_data['visit_date'])\n",
    "date_info['calendar_date'] = pd.to_datetime(date_info['calendar_date'])\n",
    "\n",
    "#добавление в таблицу air_visit_data таблицы date_info\n",
    "air_visit_data = air_visit_data.merge(date_info, left_on='visit_date', right_on='calendar_date', how='left')\n",
    "\n",
    "#удаление дублирующегося столбца calendar_date\n",
    "air_visit_data = air_visit_data.drop(columns=['calendar_date'])\n",
    "\n",
    "#добавление в таблицу air_visit_data стоблца month\n",
    "air_visit_data['month'] = air_visit_data['visit_date'].dt.month\n",
    "air_visit_data = air_visit_data.merge(air_store_info[['air_store_id', 'air_genre_name', 'air_area_name', 'latitude', 'longitude']], \n",
    "                                      on='air_store_id', how='left')\n",
    "\n",
    "\n",
    "air_reserve = air_reserve.drop(columns=['reserve_datetime'])\n",
    "\n",
    "air_reserve['visit_datetime'] = pd.to_datetime(air_reserve['visit_datetime']).dt.date\n",
    "#суммирование посетителей при совпадении air_store_id и visit_datetime\n",
    "air_reserve = air_reserve.groupby(['air_store_id', 'visit_datetime'], as_index=False, sort=False)['reserve_visitors'].sum()\n",
    "air_reserve['visit_datetime'] = pd.to_datetime(air_reserve['visit_datetime'])\n",
    "\n",
    "\n",
    "air_visit_data = air_visit_data.merge(air_reserve[['air_store_id', 'visit_datetime', 'reserve_visitors']], \n",
    "                                      left_on=['air_store_id', 'visit_date'], \n",
    "                                      right_on=['air_store_id', 'visit_datetime'], how='left')\n",
    "air_visit_data = air_visit_data.drop(columns=['visit_datetime'])\n",
    "\n",
    "# заполним нулями отсутcвующие значения количества посетителей по брони\n",
    "air_visit_data['reserve_visitors'] = air_visit_data['reserve_visitors'].fillna(0)\n",
    "\n",
    "air_visit_data = air_visit_data.merge(store_id_relation[['air_store_id', 'hpg_store_id']], on='air_store_id', how='left')\n",
    "air_visit_data['hpg_store_id'] = air_visit_data['hpg_store_id'].fillna('unknown')"
   ]
  },
  {
   "cell_type": "markdown",
   "metadata": {
    "id": "uuGumRCeJnhz"
   },
   "source": [
    "#### Создание таблицы с тестовыми данными"
   ]
  },
  {
   "cell_type": "code",
   "execution_count": 4,
   "metadata": {
    "id": "VkclDrzCJnhz",
    "outputId": "c7780c25-d0a0-42c8-f5f0-9fad3a51a2fe"
   },
   "outputs": [],
   "source": [
    "#разделение столбца id в sample_submission на два air_store_id и visit_date\n",
    "sample_submission['air_store_id'] = sample_submission['id'].apply(lambda x: '_'.join(x.split('_')[:-1]))\n",
    "sample_submission['visit_date'] = sample_submission['id'].apply(lambda x: x.split('_')[-1])\n",
    "sample_submission['visit_date'] = pd.to_datetime(sample_submission['visit_date'])\n",
    "sample_submission = sample_submission.drop(columns=['id'])\n",
    "#перенос столбца visitors в таблице sample_submission в конец\n",
    "sample_submission['visitors'] = sample_submission.pop('visitors')\n",
    "\n",
    "sample_submission = sample_submission.merge(date_info, left_on='visit_date', \n",
    "                                            right_on='calendar_date', how='left')\n",
    "sample_submission = sample_submission.drop(columns=['calendar_date'])\n",
    "sample_submission['month'] = sample_submission['visit_date'].dt.month\n",
    "sample_submission = sample_submission.merge(air_store_info[['air_store_id', 'air_genre_name', 'air_area_name', 'latitude', 'longitude']], \n",
    "                                            on='air_store_id', how='left')\n",
    "sample_submission = sample_submission.merge(air_reserve[['air_store_id', 'visit_datetime', 'reserve_visitors']],\n",
    "                                            left_on=['air_store_id', 'visit_date'],\n",
    "                                            right_on=['air_store_id', 'visit_datetime'],\n",
    "                                            how='left')\n",
    "sample_submission = sample_submission.drop(columns=['visit_datetime'])\n",
    "sample_submission['reserve_visitors'] = sample_submission['reserve_visitors'].fillna(0)\n",
    "sample_submission = sample_submission.merge(store_id_relation[['air_store_id', 'hpg_store_id']], \n",
    "                                            on='air_store_id', how='left')\n",
    "sample_submission['hpg_store_id'] = sample_submission['hpg_store_id'].fillna('unknown')"
   ]
  },
  {
   "cell_type": "markdown",
   "metadata": {
    "id": "U6z085_OJnhz"
   },
   "source": [
    "### Удаление выбросов"
   ]
  },
  {
   "cell_type": "code",
   "execution_count": 5,
   "metadata": {
    "id": "K3tQTresJnh0",
    "outputId": "0a7598a2-b054-4326-a844-e18f5189be61"
   },
   "outputs": [],
   "source": [
    "import matplotlib.pyplot as plt\n",
    "import seaborn as sns\n",
    "\n",
    "cleaned_air_visit_data = pd.DataFrame()\n",
    "\n",
    "# удаление выбросов по каждому ресторану\n",
    "for store_id, group in air_visit_data.groupby('air_store_id', as_index=False, sort=False):\n",
    "    Q1 = group['visitors'].quantile(0.25)\n",
    "    Q3 = group['visitors'].quantile(0.75)\n",
    "    IQR = Q3 - Q1\n",
    "    lower_bound = max(0, Q1 - 1.5 * IQR)\n",
    "    upper_bound = Q3 + 1.5 * IQR\n",
    "    cleaned_group = group[(group['visitors'] >= lower_bound) & (group['visitors'] <= upper_bound)]\n",
    "    cleaned_air_visit_data = pd.concat([cleaned_air_visit_data, cleaned_group])\n",
    "\n",
    "# удаление выбросов для всех ресторанов\n",
    "Q1_global = cleaned_air_visit_data['visitors'].quantile(0.25)\n",
    "Q3_global = cleaned_air_visit_data['visitors'].quantile(0.75)\n",
    "IQR_global = Q3_global - Q1_global\n",
    "lower_bound_global = max(0, Q1_global - 1.5 * IQR_global)\n",
    "upper_bound_global = Q3_global + 1.5 * IQR_global\n",
    "cleaned_air_visit_data = cleaned_air_visit_data[(cleaned_air_visit_data['visitors'] >= lower_bound_global) &\n",
    "                                                (cleaned_air_visit_data['visitors'] <= upper_bound_global)]\n",
    "cleaned_air_visit_data.reset_index(drop=True, inplace=True)"
   ]
  },
  {
   "cell_type": "markdown",
   "metadata": {
    "id": "haaHS1SaJnh0"
   },
   "source": [
    "### Анализ данных"
   ]
  },
  {
   "cell_type": "markdown",
   "metadata": {
    "id": "oehBnP9MJnh0"
   },
   "source": [
    "#### Распределение посетителей"
   ]
  },
  {
   "cell_type": "code",
   "execution_count": 6,
   "metadata": {
    "id": "Svob34fDJnh0",
    "outputId": "ec803fb3-d12a-45d8-f9bd-c8195654ab26"
   },
   "outputs": [
    {
     "data": {
      "image/png": "[encoded data removed]",
      "text/plain": [
       "<Figure size 1080x576 with 1 Axes>"
      ]
     },
     "metadata": {
      "needs_background": "light"
     },
     "output_type": "display_data"
    }
   ],
   "source": [
    "plt.figure(figsize=(15, 8))\n",
    "sns.histplot(cleaned_air_visit_data['visitors'], bins=29, color='lightblue')\n",
    "\n",
    "plt.title('Распределение количества посетителей')\n",
    "plt.xlabel('Количество посетителей')\n",
    "plt.ylabel('Частота количества посетителей')\n",
    "plt.show()"
   ]
  },
  {
   "cell_type": "markdown",
   "metadata": {
    "id": "jo5yGWppJnh0"
   },
   "source": [
    "#### Среднее количество посeтителей по дням недели"
   ]
  },
  {
   "cell_type": "code",
   "execution_count": 7,
   "metadata": {
    "id": "aigUkAJLJnh1",
    "outputId": "ad240cfd-f615-4a78-a85a-42a57bc640ac"
   },
   "outputs": [
    {
     "data": {
      "image/png": "[encoded data removed]",
      "text/plain": [
       "<Figure size 1080x576 with 1 Axes>"
      ]
     },
     "metadata": {
      "needs_background": "light"
     },
     "output_type": "display_data"
    }
   ],
   "source": [
    "visitors_by_day = cleaned_air_visit_data.groupby('day_of_week', sort=False)['visitors'].mean()\n",
    "\n",
    "days = ['Monday', 'Tuesday', 'Wednesday', 'Thursday', 'Friday', 'Saturday', 'Sunday']\n",
    "\n",
    "plt.figure(figsize=(15, 8))\n",
    "sns.barplot(x='day_of_week', y='visitors', data=visitors_by_day.reset_index(), order=days, palette='pastel')\n",
    "plt.title('Среднее число посетителей по дням недели')\n",
    "plt.xlabel('День недели')\n",
    "plt.ylabel('Среднее число посетителей по дням недели')\n",
    "plt.show()"
   ]
  },
  {
   "cell_type": "markdown",
   "metadata": {
    "id": "0j766dG0Jnh1"
   },
   "source": [
    "#### Среднее количество посетителей по месяцам"
   ]
  },
  {
   "cell_type": "code",
   "execution_count": 8,
   "metadata": {
    "id": "fWB_VQs4Jnh1",
    "outputId": "bc944b23-aca6-401f-8ec8-542800870244"
   },
   "outputs": [
    {
     "data": {
      "image/png": "[encoded data removed]",
      "text/plain": [
       "<Figure size 1080x576 with 1 Axes>"
      ]
     },
     "metadata": {
      "needs_background": "light"
     },
     "output_type": "display_data"
    }
   ],
   "source": [
    "cleaned_air_visit_data['month'] = cleaned_air_visit_data['visit_date'].dt.month\n",
    "\n",
    "visitors_by_month = cleaned_air_visit_data.groupby('month', sort=False)['visitors'].mean()\n",
    "\n",
    "months = ['January', 'February', 'March', 'April', 'May', 'June', 'July', 'August', 'September', 'October', 'November', 'December']\n",
    "\n",
    "plt.figure(figsize=(15, 8))\n",
    "sns.barplot(x='month', y='visitors', data=visitors_by_month.reset_index(), order=range(1, 13), palette='pastel')\n",
    "plt.title('Среднее количество посетителей по месяцам')\n",
    "plt.xlabel('Месяц')\n",
    "plt.ylabel('Среднее количество посетителей')\n",
    "plt.xticks(ticks=range(12), labels=months, rotation=45)\n",
    "plt.legend([], [], frameon=False)\n",
    "plt.show()\n"
   ]
  },
  {
   "cell_type": "markdown",
   "metadata": {
    "id": "AqvX4Wh7Jnh1"
   },
   "source": [
    "### Выбор признаков и их кодирование"
   ]
  },
  {
   "cell_type": "code",
   "execution_count": 9,
   "metadata": {
    "id": "MZN5rSq6Jnh2",
    "outputId": "408935c4-366f-45ad-b123-fb149b287231"
   },
   "outputs": [],
   "source": [
    "from sklearn.preprocessing import OneHotEncoder\n",
    "\n",
    "# создание обучающей выборки\n",
    "cleaned_air_visit_data_encoded = cleaned_air_visit_data.copy().reset_index(drop=True)\n",
    "cleaned_air_visit_data_merge = cleaned_air_visit_data.copy().reset_index(drop=True) # чтобы в конце NaN и NaT не вышло, индексы не состыкуются\n",
    "\n",
    "selected_features = cleaned_air_visit_data[['day_of_week', 'holiday_flg', 'month', 'air_genre_name', 'air_area_name', 'hpg_store_id']]\n",
    "\n",
    "encoder = OneHotEncoder(handle_unknown='ignore', drop='first', sparse_output=False)\n",
    "encoded_features = encoder.fit_transform(selected_features)\n",
    "encoded_df = pd.DataFrame(encoded_features, columns=encoder.get_feature_names_out(selected_features.columns))\n",
    "\n",
    "cleaned_air_visit_data_encoded = pd.concat([cleaned_air_visit_data_merge, encoded_df], axis=1)\n",
    "cleaned_air_visit_data_encoded = cleaned_air_visit_data_encoded.drop(columns=['air_store_id', 'visit_date',\n",
    "                                                                              'visitors', 'day_of_week',\n",
    "                                                                              'holiday_flg', 'month',\n",
    "                                                                              'air_genre_name', 'air_area_name',\n",
    "                                                                              'hpg_store_id'])\n",
    "\n",
    "# создание тестовой выборки\n",
    "sample_submission_encoded = sample_submission.copy()\n",
    "\n",
    "selected_features_test = sample_submission_encoded[['day_of_week', 'holiday_flg', 'month', 'air_genre_name', 'air_area_name', 'hpg_store_id']]\n",
    "\n",
    "encoded_features_test = encoder.fit_transform(selected_features_test)\n",
    "encoded_df_test = pd.DataFrame(encoded_features_test, columns=encoder.get_feature_names_out(selected_features_test.columns))\n",
    "\n",
    "sample_submission_encoded = pd.concat([sample_submission, encoded_df_test], axis=1)\n",
    "sample_submission_encoded = sample_submission_encoded.drop(columns=['air_store_id', 'visit_date',\n",
    "                                                                    'visitors', 'day_of_week',\n",
    "                                                                    'holiday_flg', 'month',\n",
    "                                                                    'air_genre_name', 'air_area_name',\n",
    "                                                                    'hpg_store_id'])\n",
    "\n",
    "#в тестовой выборке два месяца, в обучающей двенадцать, нужно дополнить тестовую выборку до двенадцати месяцев\n",
    "missing_month_columns = [f'month_{i}' for i in range(1, 13) if f'month_{i}' not in sample_submission_encoded.columns]\n",
    "for col in missing_month_columns:\n",
    "    sample_submission_encoded[col] = 0.0\n",
    "\n",
    "#сделаем одинаковый порядок столбцов в тестовой и обучающей выборке\n",
    "sample_submission_encoded = sample_submission_encoded[cleaned_air_visit_data_encoded.columns]"
   ]
  },
  {
   "cell_type": "markdown",
   "metadata": {
    "id": "8yl1kIeHJnh2"
   },
   "source": [
    "### Обучение моделей и подбор гиперпараметров"
   ]
  },
  {
   "cell_type": "code",
   "execution_count": 10,
   "metadata": {
    "id": "ftWa2jj1Jnh2",
    "outputId": "48879bfd-8111-4536-d7f3-48b75db8f6bf"
   },
   "outputs": [
    {
     "name": "stdout",
     "output_type": "stream",
     "text": [
      "Средние абсолютные ошибки моделей:\n",
      "XGBoost: MAE = 8.0395, MAPE = 97.86%\n",
      "Linear Regression: MAE = 9.1255, MAPE = 116.31%\n",
      "Первые 10 прогнозируемых посетителей:\n",
      "[11.290783 21.399433 24.771502 27.010246 28.264023 33.178356  8.535947\n",
      " 11.290783 22.749592 25.273966]\n"
     ]
    }
   ],
   "source": [
    "from sklearn.model_selection import train_test_split, GridSearchCV\n",
    "from sklearn.linear_model import LinearRegression\n",
    "from sklearn.metrics import mean_absolute_error, mean_absolute_percentage_error\n",
    "import xgboost as xgb\n",
    "import pandas as pd\n",
    "\n",
    "#признаки\n",
    "X_train = cleaned_air_visit_data_encoded \n",
    "#целевая величина\n",
    "y_train = cleaned_air_visit_data['visitors']\n",
    "\n",
    "X_train_split, X_val_split, y_train_split, y_val_split = train_test_split(X_train, y_train, \n",
    "                                                                          test_size=0.3, \n",
    "                                                                          random_state=42)\n",
    "\n",
    "models = {\"Linear Regression\": LinearRegression(),\n",
    "          \"XGBoost\": xgb.XGBRegressor(objective='reg:squarederror', random_state=42)}\n",
    "\n",
    "gyper_parameters= {\"Linear Regression\": {},\n",
    "                   \"XGBoost\": {'n_estimators': [200],\n",
    "                            'learning_rate': [0.5],\n",
    "                                'max_depth': [8]}}\n",
    "\n",
    "model_scores = {} #сюда записывается MAE\n",
    "mape_scores = {} #сюда записывается MAPE\n",
    "for name, model in models.items():\n",
    "    if gyper_parameters[name]: #если в модели есть гиперпараметры\n",
    "        grid_search = GridSearchCV(estimator=model, param_grid=gyper_parameters[name])\n",
    "        grid_search.fit(X_train_split, y_train_split)\n",
    "        best_model = grid_search.best_estimator_\n",
    "        y_val_pred = best_model.predict(X_val_split)\n",
    "    else:\n",
    "        model.fit(X_train_split, y_train_split)\n",
    "        y_val_pred = model.predict(X_val_split)\n",
    "    #нахождение MAE и MAPE\n",
    "    mae = mean_absolute_error(y_val_split, y_val_pred)\n",
    "    model_scores[name] = mae\n",
    "\n",
    "    mape = mean_absolute_percentage_error(y_val_split, y_val_pred)\n",
    "    mape_scores[name] = mape * 100 \n",
    "\n",
    "#сортировка ошибок\n",
    "sorted_scores = sorted(model_scores.items(), key=lambda x: x[1])\n",
    "\n",
    "print(\"Средние абсолютные ошибки моделей:\")\n",
    "for model, score in sorted_scores:\n",
    "    print(f\"{model}: MAE = {score:.4f}, MAPE = {mape_scores[model]:.2f}%\")\n",
    "\n",
    "#выбор лучшей модели\n",
    "best_model_name = sorted_scores[0][0]\n",
    "best_model = models[best_model_name]\n",
    "\n",
    "if best_model_name in gyper_parameters and gyper_parameters[best_model_name]:\n",
    "    best_model = grid_search.best_estimator_\n",
    "\n",
    "#обучаем лучшую модель на всей обучающей выборке\n",
    "best_model.fit(X_train, y_train)\n",
    "\n",
    "#прогнозируем\n",
    "X_test = sample_submission_encoded\n",
    "y_test_pred = best_model.predict(X_test)\n",
    "\n",
    "print(\"Первые 10 прогнозируемых посетителей:\")\n",
    "print(y_test_pred[:10])"
   ]
  },
  {
   "cell_type": "code",
   "execution_count": null,
   "metadata": {},
   "outputs": [],
   "source": []
  }
 ],
 "metadata": {
  "colab": {
   "provenance": []
  },
  "kernelspec": {
   "display_name": "Python 3",
   "language": "python",
   "name": "python3"
  },
  "language_info": {
   "codemirror_mode": {
    "name": "ipython",
    "version": 3
   },
   "file_extension": ".py",
   "mimetype": "text/x-python",
   "name": "python",
   "nbconvert_exporter": "python",
   "pygments_lexer": "ipython3",
   "version": "3.8.5"
  }
 },
 "nbformat": 4,
 "nbformat_minor": 4
}
